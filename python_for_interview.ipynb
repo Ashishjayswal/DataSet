{
  "cells": [
    {
      "cell_type": "markdown",
      "metadata": {
        "id": "view-in-github",
        "colab_type": "text"
      },
      "source": [
        "<a href=\"https://colab.research.google.com/github/Ashishjayswal/DataSet/blob/Ashish/python_for_interview.ipynb\" target=\"_parent\"><img src=\"https://colab.research.google.com/assets/colab-badge.svg\" alt=\"Open In Colab\"/></a>"
      ]
    },
    {
      "cell_type": "markdown",
      "id": "0302b530",
      "metadata": {
        "id": "0302b530"
      },
      "source": [
        "\n",
        "# 1. Write a Python program to sum all the items in a list.  \n",
        "  \n"
      ]
    },
    {
      "cell_type": "code",
      "execution_count": null,
      "id": "3b972dcd",
      "metadata": {
        "id": "3b972dcd",
        "outputId": "66014e65-15a7-4845-f1b8-484a8bec9769"
      },
      "outputs": [
        {
          "name": "stdout",
          "output_type": "stream",
          "text": [
            "-5\n"
          ]
        }
      ],
      "source": [
        "def sum_list(items):\n",
        "    sum_numbers = 0\n",
        "    for x in items:\n",
        "        sum_numbers += x\n",
        "    return sum_numbers\n",
        "print(sum_list([1,2,-8]))\n"
      ]
    },
    {
      "cell_type": "markdown",
      "id": "0bc2b186",
      "metadata": {
        "id": "0bc2b186"
      },
      "source": [
        "# Python program to multiply all values in the item in a list"
      ]
    },
    {
      "cell_type": "code",
      "execution_count": null,
      "id": "97855f4d",
      "metadata": {
        "id": "97855f4d",
        "outputId": "6f654e5c-3766-4a48-afab-eb3baef4b3ff"
      },
      "outputs": [
        {
          "name": "stdout",
          "output_type": "stream",
          "text": [
            "6\n",
            "24\n"
          ]
        }
      ],
      "source": [
        "def multiplyList(myList):\n",
        "\tresult = 1\n",
        "\tfor x in myList:\n",
        "\t\tresult = result * x\n",
        "\treturn result\n",
        "\n",
        "\n",
        "# Driver code\n",
        "list1 = [1, 2, 3]\n",
        "list2 = [3, 2, 4]\n",
        "print(multiplyList(list1))\n",
        "print(multiplyList(list2))\n"
      ]
    },
    {
      "cell_type": "code",
      "execution_count": null,
      "id": "583ca9bc",
      "metadata": {
        "id": "583ca9bc"
      },
      "outputs": [],
      "source": []
    },
    {
      "cell_type": "markdown",
      "id": "db73c5ab",
      "metadata": {
        "id": "db73c5ab"
      },
      "source": [
        "# 3. Write a Python program to get the largest number from a list.  \n",
        "  \n"
      ]
    },
    {
      "cell_type": "code",
      "execution_count": null,
      "id": "4c72f807",
      "metadata": {
        "id": "4c72f807",
        "outputId": "c17eebb6-0ba5-4f06-ca7b-a1e3d9223e41"
      },
      "outputs": [
        {
          "name": "stdout",
          "output_type": "stream",
          "text": [
            "100\n"
          ]
        }
      ],
      "source": [
        "# python code to print largest element in the list\n",
        "\n",
        "lst = [20, 10, 20, 4, 100]\n",
        "print(max(lst, key=lambda value: int(value)))\n"
      ]
    },
    {
      "cell_type": "markdown",
      "id": "efeb4ccd",
      "metadata": {
        "id": "efeb4ccd"
      },
      "source": [
        "# Write a Python program to get the smallest number from a list."
      ]
    },
    {
      "cell_type": "code",
      "execution_count": null,
      "id": "0caa92eb",
      "metadata": {
        "id": "0caa92eb",
        "outputId": "ee55edee-be60-4054-9d72-d62f13be4722"
      },
      "outputs": [
        {
          "name": "stdout",
          "output_type": "stream",
          "text": [
            "Smallest element is:  18\n"
          ]
        }
      ],
      "source": [
        "a=[18, 52, 23, 41, 32]\n",
        "\n",
        "# smallest number\n",
        "smallest = a[0] if a else None\n",
        "\n",
        "# find smallest\n",
        "for i in a:\n",
        "\tif i<smallest:\n",
        "\t\tsmallest=i\n",
        "\n",
        "print(\"Smallest element is: \", smallest)"
      ]
    },
    {
      "cell_type": "code",
      "execution_count": null,
      "id": "daac80b0",
      "metadata": {
        "id": "daac80b0",
        "outputId": "9218aebd-1c5d-4683-81f8-70e883a1c0ad"
      },
      "outputs": [
        {
          "name": "stdout",
          "output_type": "stream",
          "text": [
            "-8\n"
          ]
        }
      ],
      "source": [
        "def smallest_num_in_list( list ):\n",
        "    min = list[ 0 ]\n",
        "    for a in list:\n",
        "        if a < min:\n",
        "            min = a\n",
        "    return min\n",
        "print(smallest_num_in_list([1, 2, -8, 0]))"
      ]
    },
    {
      "cell_type": "markdown",
      "id": "2d005271",
      "metadata": {
        "id": "2d005271"
      },
      "source": [
        "###### Write a Python program to count the number of strings where the string length is 2 or more and the first and last character are same from a given list of strings.  \n",
        "##### Sample List : ['abc', 'xyz', 'aba', '1221']\n",
        " ##### Expected Result : 2\n"
      ]
    },
    {
      "cell_type": "code",
      "execution_count": null,
      "id": "d6324da6",
      "metadata": {
        "id": "d6324da6",
        "outputId": "cd362d92-3058-480f-afe5-42849ead7e20"
      },
      "outputs": [
        {
          "name": "stdout",
          "output_type": "stream",
          "text": [
            "2\n"
          ]
        }
      ],
      "source": [
        "def match_words(words):\n",
        "    ctr = 0\n",
        "\n",
        "    for word in words:\n",
        "        if len(word) > 1 and word[0] == word[-1]:\n",
        "            ctr += 1\n",
        "    return ctr\n",
        "\n",
        "print(match_words(['abc', 'xyz', 'aba', '1221']))\n"
      ]
    },
    {
      "cell_type": "markdown",
      "id": "6b903f4a",
      "metadata": {
        "id": "6b903f4a"
      },
      "source": [
        "# \n",
        "# 6. Write a Python program to get a list, sorted in increasing order by the last element in each tuple from a given list of non-empty tuples.  \n",
        "# Sample List : [(2, 5), (1, 2), (4, 4), (2, 3), (2, 1)]\n",
        "# Expected Result : [(2, 1), (1, 2), (2, 3), (4, 4), (2, 5)]\n"
      ]
    },
    {
      "cell_type": "code",
      "execution_count": null,
      "id": "5b77de81",
      "metadata": {
        "id": "5b77de81",
        "outputId": "40cefb54-3c8d-4363-841e-987761a080a3"
      },
      "outputs": [
        {
          "name": "stdout",
          "output_type": "stream",
          "text": [
            "[(2, 1), (1, 2), (2, 3), (4, 4), (2, 5)]\n"
          ]
        }
      ],
      "source": [
        "def last(n): return n[-1]\n",
        "\n",
        "def sort_list_last(tuples):\n",
        "    return sorted(tuples, key=last)\n",
        "\n",
        "print(sort_list_last([(2, 5), (1, 2), (4, 4), (2, 3), (2, 1)]))\n"
      ]
    },
    {
      "cell_type": "markdown",
      "id": "5811f3be",
      "metadata": {
        "id": "5811f3be"
      },
      "source": [
        "# without sort"
      ]
    },
    {
      "cell_type": "code",
      "execution_count": null,
      "id": "85faf72b",
      "metadata": {
        "id": "85faf72b",
        "outputId": "ccd7a13f-2451-46f7-f757-b25683905225"
      },
      "outputs": [
        {
          "name": "stdout",
          "output_type": "stream",
          "text": [
            "(2, 1)(1, 2)(2, 3)(4, 4)(2, 5)"
          ]
        }
      ],
      "source": [
        "a=[(2, 5), (1, 2), (4, 4), (2, 3), (2, 1)]\n",
        "for j in range (1,len(a)):\n",
        "    for i in range(len(a)-j) :\n",
        "        if a[i][1]>a[i+1][1]:\n",
        "            temp=a[i]\n",
        "            a[i]=a[i+1]\n",
        "            a[i+1]=temp\n",
        "for i in range(len(a)):\n",
        "    print(a[i],end='')"
      ]
    },
    {
      "cell_type": "code",
      "execution_count": null,
      "id": "c815d59f",
      "metadata": {
        "id": "c815d59f",
        "outputId": "976fba3f-8f43-46b0-adab-2a43d7a8b7e7"
      },
      "outputs": [
        {
          "name": "stdout",
          "output_type": "stream",
          "text": [
            "5\n",
            "2\n"
          ]
        }
      ],
      "source": [
        "a=[(2, 5), (1, 2), (4, 4), (2, 3), (2, 1)]\n",
        "print(a[i][1])\n",
        "print(a[i+1][1])"
      ]
    },
    {
      "cell_type": "markdown",
      "id": "52596ec1",
      "metadata": {
        "id": "52596ec1"
      },
      "source": [
        "# # removing duplicate elements from the list\n"
      ]
    },
    {
      "cell_type": "code",
      "execution_count": null,
      "id": "d439bdb8",
      "metadata": {
        "id": "d439bdb8",
        "outputId": "4995b456-0dc5-48c2-db41-759e5df9db67"
      },
      "outputs": [
        {
          "name": "stdout",
          "output_type": "stream",
          "text": [
            "Original List:  [1, 2, 4, 2, 1, 4, 5]\n",
            "List after removing duplicate elements:  [1, 2, 4, 5]\n"
          ]
        }
      ],
      "source": [
        "# Python 3 code to demonstrate\n",
        "l = [1, 2, 4, 2, 1, 4, 5]\n",
        "print(\"Original List: \", l)\n",
        "res = [*set(l)]\n",
        "print(\"List after removing duplicate elements: \", res)\n"
      ]
    },
    {
      "cell_type": "code",
      "execution_count": null,
      "id": "a196efc0",
      "metadata": {
        "id": "a196efc0",
        "outputId": "61b4faf3-167a-460e-e288-7d84d5bf4288"
      },
      "outputs": [
        {
          "name": "stdout",
          "output_type": "stream",
          "text": [
            "The original list is : [1, 5, 3, 6, 3, 5, 6, 1]\n",
            "The list after removing duplicates : [1, 5, 3, 6]\n"
          ]
        }
      ],
      "source": [
        "# removing duplicates from list\n",
        "\n",
        "# initializing list\n",
        "test_list = [1, 5, 3, 6, 3, 5, 6, 1]\n",
        "print (\"The original list is : \"+ str(test_list))\n",
        "\n",
        "res = []\n",
        "for i in test_list:\n",
        "\tif i not in res:\n",
        "\t\tres.append(i)\n",
        "\n",
        "# printing list after removal\n",
        "print (\"The list after removing duplicates : \"+ str(res))\n"
      ]
    },
    {
      "cell_type": "markdown",
      "id": "2a4c69a9",
      "metadata": {
        "id": "2a4c69a9"
      },
      "source": [
        "# Python code to check for empty list\n"
      ]
    },
    {
      "cell_type": "code",
      "execution_count": null,
      "id": "df75627b",
      "metadata": {
        "id": "df75627b",
        "outputId": "1ff3c2b7-cc82-45e9-ec16-84a6e74ad0e4"
      },
      "outputs": [
        {
          "name": "stdout",
          "output_type": "stream",
          "text": [
            "Empty List\n"
          ]
        }
      ],
      "source": [
        "# Explicit way\n",
        "\n",
        "def Enquiry(lis1):\n",
        "\tif len(lis1) == 0:\n",
        "\t\treturn 0\n",
        "\telse:\n",
        "\t\treturn 1\n",
        "\n",
        "# Driver Code\n",
        "lis1 = []\n",
        "if Enquiry(lis1):\n",
        "\tprint(\"The list is not empty\")\n",
        "else:\n",
        "\tprint(\"Empty List\")\n"
      ]
    },
    {
      "cell_type": "markdown",
      "id": "42aed7e3",
      "metadata": {
        "id": "42aed7e3"
      },
      "source": [
        "# Python code to clone or copy a list\n"
      ]
    },
    {
      "cell_type": "code",
      "execution_count": null,
      "id": "353db6cd",
      "metadata": {
        "id": "353db6cd",
        "outputId": "f516bd90-bea9-4d1b-90be-a65d3eaacd77"
      },
      "outputs": [
        {
          "name": "stdout",
          "output_type": "stream",
          "text": [
            "Original List: [4, 8, 2, 10, 15, 18]\n",
            "After Cloning: [4, 8, 2, 10, 15, 18]\n"
          ]
        }
      ],
      "source": [
        "# Using the in-built function extend()\n",
        "def Cloning(li1):\n",
        "\tli_copy = []\n",
        "\tli_copy.extend(li1)\n",
        "\treturn li_copy\n",
        "\n",
        "# Driver Code\n",
        "li1 = [4, 8, 2, 10, 15, 18]\n",
        "li2 = Cloning(li1)\n",
        "print(\"Original List:\", li1)\n",
        "print(\"After Cloning:\", li2)\n"
      ]
    },
    {
      "cell_type": "markdown",
      "id": "5be0eb40",
      "metadata": {
        "id": "5be0eb40"
      },
      "source": [
        "# Python code to clone or copy a list\n"
      ]
    },
    {
      "cell_type": "code",
      "execution_count": null,
      "id": "d7bf6f2c",
      "metadata": {
        "id": "d7bf6f2c",
        "outputId": "f4ef2b64-d29b-4794-accc-9c8d609c8deb"
      },
      "outputs": [
        {
          "name": "stdout",
          "output_type": "stream",
          "text": [
            "old :  [1, 3, 3, 5, 6]\n",
            "new : [1, 3, 3, 5, 6]\n"
          ]
        }
      ],
      "source": [
        "l = [1,3,3,5,6]\n",
        "c = l\n",
        "print('old : ',l)\n",
        "print('new :',c)"
      ]
    },
    {
      "cell_type": "markdown",
      "id": "04049461",
      "metadata": {
        "id": "04049461"
      },
      "source": [
        "# Write a Python program to find the list of words that are longer than n from a given list of words"
      ]
    },
    {
      "cell_type": "code",
      "execution_count": null,
      "id": "a567cb0b",
      "metadata": {
        "id": "a567cb0b",
        "outputId": "43b67125-b785-4d77-8316-4e8ff591c491"
      },
      "outputs": [
        {
          "name": "stdout",
          "output_type": "stream",
          "text": [
            "['quick', 'brown', 'jumps', 'over', 'lazy']\n"
          ]
        }
      ],
      "source": [
        "def long_words(n, str):\n",
        "    word_len = []\n",
        "    txt = str.split(\" \")\n",
        "    for x in txt:\n",
        "        if len(x) > n:\n",
        "            word_len.append(x)\n",
        "    return word_len\t\n",
        "print(long_words(3, \"The quick brown fox jumps over the lazy dog\"))\n"
      ]
    },
    {
      "cell_type": "markdown",
      "id": "df4176fe",
      "metadata": {
        "id": "df4176fe"
      },
      "source": [
        "# Write a Python function that takes two lists and returns True if they have at least one common member"
      ]
    },
    {
      "cell_type": "code",
      "execution_count": null,
      "id": "c6539789",
      "metadata": {
        "colab": {
          "base_uri": "https://localhost:8080/"
        },
        "id": "c6539789",
        "outputId": "d8f8d23c-1510-4531-9041-fd4b7c66e8e9"
      },
      "outputs": [
        {
          "output_type": "stream",
          "name": "stdout",
          "text": [
            "True\n",
            "False\n"
          ]
        }
      ],
      "source": [
        "# Python program to check\n",
        "# if two lists have at-least\n",
        "# one element common\n",
        "# using traversal of list\n",
        "\n",
        "def common_data(list1, list2):\n",
        "\tresult = False\n",
        "\n",
        "\t# traverse in the 1st list\n",
        "\tfor x in list1:\n",
        "\n",
        "\t\t# traverse in the 2nd list\n",
        "\t\tfor y in list2:\n",
        "\t\n",
        "\t\t\t# if one common\n",
        "\t\t\tif x == y:\n",
        "\t\t\t\tresult = True\n",
        "\t\t\t\treturn result\n",
        "\t\t\t\t\n",
        "\treturn result\n",
        "\t\n",
        "# driver code\n",
        "list1 = [1, 2, 3, 4, 5]\n",
        "list2 = [5, 6, 7, 8, 9]\n",
        "print(common_data(list1, list2))\n",
        "\n",
        "a = [1, 2, 3, 4, 5]\n",
        "b = [6, 7, 8, 9]\n",
        "print(common_data(a, b))\n"
      ]
    },
    {
      "cell_type": "code",
      "execution_count": null,
      "id": "58e2d759",
      "metadata": {
        "id": "58e2d759",
        "outputId": "dc9ef7ac-81ab-490a-ebbe-c107a7bf62f0"
      },
      "outputs": [
        {
          "name": "stdout",
          "output_type": "stream",
          "text": [
            "True\n",
            "False\n"
          ]
        }
      ],
      "source": [
        "# Python program to check\n",
        "# if two lists have at-least\n",
        "# one element common\n",
        "# using set and property\n",
        "\n",
        "def common_member(a, b):\n",
        "\ta_set = set(a)\n",
        "\tb_set = set(b)\n",
        "\tif (a_set & b_set):\n",
        "\t\treturn True\n",
        "\telse:\n",
        "\t\treturn False\n",
        "\t\t\n",
        "\n",
        "a = [1, 2, 3, 4, 5]\n",
        "b = [5, 6, 7, 8, 9]\n",
        "print(common_member(a, b))\n",
        "\n",
        "a =[1, 2, 3, 4, 5]\n",
        "b =[6, 7, 8, 9]\n",
        "print(common_member(a, b))\n"
      ]
    },
    {
      "cell_type": "markdown",
      "id": "c40c43c6",
      "metadata": {
        "id": "c40c43c6"
      },
      "source": [
        "# Python program to print a specified list after removing the 0th, 4th and 5th elements.  \n",
        "# Sample List : ['Red', 'Green', 'White', 'Black', 'Pink', 'Yellow']\n",
        "# Expected Output : ['Green', 'White', 'Black']\n",
        "  \n"
      ]
    },
    {
      "cell_type": "code",
      "execution_count": null,
      "id": "ba808f55",
      "metadata": {
        "id": "ba808f55",
        "outputId": "98ec63c1-1b88-4a74-8aaf-6050ada2d244"
      },
      "outputs": [
        {
          "name": "stdout",
          "output_type": "stream",
          "text": [
            "['Green', 'White', 'Black']\n"
          ]
        }
      ],
      "source": [
        "color = ['Red', 'Green', 'White', 'Black', 'Pink', 'Yellow']\n",
        "color = [x for (i,x) in enumerate(color) if i not in (0,4,5)]\n",
        "print(color)\n"
      ]
    },
    {
      "cell_type": "markdown",
      "id": "9b3d5824",
      "metadata": {
        "id": "9b3d5824"
      },
      "source": [
        "# 13. Write a Python program to generate a 3*4*6 3D array whose each element is *.  \n",
        "  \n"
      ]
    },
    {
      "cell_type": "code",
      "execution_count": null,
      "id": "23abced9",
      "metadata": {
        "id": "23abced9",
        "outputId": "e594b2ff-1224-46f0-f526-d00f540c48a5"
      },
      "outputs": [
        {
          "name": "stdout",
          "output_type": "stream",
          "text": [
            "[[['*', '*', '*', '*', '*', '*'], ['*', '*', '*', '*', '*', '*'], ['*', '*', '*', '*', '*', '*'], ['*', '*', '*', '*', '*', '*']], [['*', '*', '*', '*', '*', '*'], ['*', '*', '*', '*', '*', '*'], ['*', '*', '*', '*', '*', '*'], ['*', '*', '*', '*', '*', '*']], [['*', '*', '*', '*', '*', '*'], ['*', '*', '*', '*', '*', '*'], ['*', '*', '*', '*', '*', '*'], ['*', '*', '*', '*', '*', '*']]]\n"
          ]
        }
      ],
      "source": [
        "array = [[ ['*' for col in range(6)] for col in range(4)] for row in range(3)]\n",
        "print(array)\n"
      ]
    },
    {
      "cell_type": "code",
      "execution_count": null,
      "id": "4dfbf32d",
      "metadata": {
        "id": "4dfbf32d",
        "outputId": "e80a6fca-804a-493c-d922-070ee1b635c7"
      },
      "outputs": [
        {
          "name": "stdout",
          "output_type": "stream",
          "text": [
            "[['*', '*', '*', '*', '*', '*']]\n"
          ]
        }
      ],
      "source": [
        "array = [['*' for col in range(6)]]\n",
        "print(array)\n"
      ]
    },
    {
      "cell_type": "markdown",
      "id": "7e3a2132",
      "metadata": {
        "id": "7e3a2132"
      },
      "source": [
        "# Write a Python program to print the numbers of a specified list after removing even numbers from it.  "
      ]
    },
    {
      "cell_type": "code",
      "execution_count": null,
      "id": "d516adbc",
      "metadata": {
        "id": "d516adbc",
        "outputId": "c4c23a37-1ef7-4536-a420-27f67f2e6432"
      },
      "outputs": [
        {
          "name": "stdout",
          "output_type": "stream",
          "text": [
            "[7, 25, 27]\n"
          ]
        }
      ],
      "source": [
        "num = [7,8, 120, 25, 44, 20, 27]\n",
        "num = [x for x in num if x%2!=0]\n",
        "print(num)\n"
      ]
    },
    {
      "cell_type": "code",
      "execution_count": null,
      "id": "04e953cb",
      "metadata": {
        "id": "04e953cb",
        "outputId": "b8bc449d-5604-4dae-ef75-fe6cf45f1289"
      },
      "outputs": [
        {
          "name": "stdout",
          "output_type": "stream",
          "text": [
            "original number  [1, 2, 3, 4, 5]\n",
            "suffle number  [1, 3, 5, 2, 4]\n"
          ]
        }
      ],
      "source": [
        "import random \n",
        "n = [1,2,3,4,5]\n",
        "print('original number ',n)\n",
        "random.shuffle(n)\n",
        "print('suffle number ',n)"
      ]
    },
    {
      "cell_type": "markdown",
      "id": "bd8c3164",
      "metadata": {
        "id": "bd8c3164"
      },
      "source": [
        "# Write a Python program to generate and print a list of first and last 5 elements where the values are square of numbers between 1 and 30 (both included).  "
      ]
    },
    {
      "cell_type": "code",
      "execution_count": null,
      "id": "cf74d247",
      "metadata": {
        "id": "cf74d247",
        "outputId": "0d55e677-7e20-4260-d82c-cb79e5b7c892"
      },
      "outputs": [
        {
          "name": "stdout",
          "output_type": "stream",
          "text": [
            "This is first 5 [1, 4, 9, 16, 25]\n",
            "this is last five [256, 289, 324, 361, 400]\n"
          ]
        }
      ],
      "source": [
        "def printValues():\n",
        "\tl = []\n",
        "\tfor i in range(1,21):\n",
        "\t\tl.append(i**2)\n",
        "\tprint('This is first 5',l[:5])\n",
        "\tprint('this is last five',l[-5:])\n",
        "\n",
        "printValues()\n"
      ]
    },
    {
      "cell_type": "markdown",
      "id": "08fb1a14",
      "metadata": {
        "id": "08fb1a14"
      },
      "source": [
        "# Write a Python program to generate all permutations of a list in Python.  \n",
        "  \n"
      ]
    },
    {
      "cell_type": "code",
      "execution_count": null,
      "id": "55a5d11f",
      "metadata": {
        "id": "55a5d11f",
        "outputId": "705c8dda-ee5c-4264-922a-c694555211e0"
      },
      "outputs": [
        {
          "name": "stdout",
          "output_type": "stream",
          "text": [
            "[(1, 2, 3), (1, 3, 2), (2, 1, 3), (2, 3, 1), (3, 1, 2), (3, 2, 1)]\n"
          ]
        }
      ],
      "source": [
        "import itertools\n",
        "print(list(itertools.permutations([1,2,3])))\n"
      ]
    },
    {
      "cell_type": "markdown",
      "id": "0fcc9512",
      "metadata": {
        "id": "0fcc9512"
      },
      "source": [
        "# without inbilt function"
      ]
    },
    {
      "cell_type": "code",
      "execution_count": null,
      "id": "18e81cb5",
      "metadata": {
        "id": "18e81cb5",
        "outputId": "957a1537-86e2-4e25-cb9a-77f4658b6ec7"
      },
      "outputs": [
        {
          "name": "stdout",
          "output_type": "stream",
          "text": [
            "['4', '3', '2', '1']\n"
          ]
        }
      ],
      "source": [
        "def permuta(lst):\n",
        "    if len(lst)==0:\n",
        "        return []\n",
        "    if len(lst) ==1:\n",
        "        return [lst]\n",
        "    l = []\n",
        "    for i in range(len(lst)):\n",
        "        r = lst[i]\n",
        "        ravi = lst[:i]+lst[i+1:]\n",
        "    for v in permuta(ravi):\n",
        "            l.append([r]+v)\n",
        "    return l\n",
        "d = list('1234')\n",
        "for v in permuta(d):\n",
        "    print(v)"
      ]
    },
    {
      "cell_type": "code",
      "execution_count": null,
      "id": "7e694399",
      "metadata": {
        "id": "7e694399",
        "outputId": "f4d5ca82-60d8-4f77-fd28-62d8f76d3990"
      },
      "outputs": [
        {
          "name": "stdout",
          "output_type": "stream",
          "text": [
            "['1', '2', '3', '4']\n"
          ]
        }
      ],
      "source": [
        "def per(lst):\n",
        "    if len(lst)==0:\n",
        "        return []\n",
        "    \n",
        "d = list('1234')\n",
        "for v in per(d):\n",
        "    print(v)"
      ]
    },
    {
      "cell_type": "code",
      "execution_count": null,
      "id": "49e37652",
      "metadata": {
        "id": "49e37652",
        "outputId": "97ce5d87-f292-442e-b2f7-d54d5184d0ca"
      },
      "outputs": [
        {
          "name": "stdout",
          "output_type": "stream",
          "text": [
            "[1, 2, 3]\n",
            "[1, 3, 2]\n",
            "[2, 1, 3]\n",
            "[2, 3, 1]\n",
            "[3, 1, 2]\n",
            "[3, 2, 1]\n"
          ]
        }
      ],
      "source": [
        "def perm(start, end=[]):\n",
        "    if(len(start) == 0):\n",
        "        print(end)\n",
        "    else:\n",
        "        for i in range(len(start)):\n",
        "            perm(start[:i] + start[i+1:], end + start[i:i+1])\n",
        "            \n",
        "#function call\n",
        "perm([1,2,3])\n"
      ]
    },
    {
      "cell_type": "markdown",
      "id": "590bfd87",
      "metadata": {
        "id": "590bfd87"
      },
      "source": [
        "# 19. Write a Python program to get the difference between the two lists.  \n",
        "  \n"
      ]
    },
    {
      "cell_type": "code",
      "execution_count": null,
      "id": "cb1245b7",
      "metadata": {
        "id": "cb1245b7",
        "outputId": "bda1fc48-8603-43b4-b09c-1e312f39328a"
      },
      "outputs": [
        {
          "name": "stdout",
          "output_type": "stream",
          "text": [
            "[9, 3, 5, 8, 2, 4, 6]\n"
          ]
        }
      ],
      "source": [
        "list1 = [1, 3, 5, 7, 9]\n",
        "list2=[1, 2, 4, 6, 7, 8]\n",
        "diff_list1_list2 = list(set(list1) - set(list2))\n",
        "diff_list2_list1 = list(set(list2) - set(list1))\n",
        "total_diff = diff_list1_list2 + diff_list2_list1\n",
        "print(total_diff)\n"
      ]
    },
    {
      "cell_type": "code",
      "execution_count": null,
      "id": "4f650237",
      "metadata": {
        "id": "4f650237",
        "outputId": "d1a70595-6104-4310-ac5c-6ed0bda62f0b"
      },
      "outputs": [
        {
          "name": "stdout",
          "output_type": "stream",
          "text": [
            "[9, 3, 5]\n"
          ]
        }
      ],
      "source": [
        "a = [9, 3, 5, 8, 2, 4, 6]\n",
        "print(a[:3])"
      ]
    },
    {
      "cell_type": "markdown",
      "id": "b29dd7c5",
      "metadata": {
        "id": "b29dd7c5"
      },
      "source": [
        "# 21. Write a Python program to convert a list of characters into a string.  \n",
        "  \n"
      ]
    },
    {
      "cell_type": "code",
      "execution_count": null,
      "id": "a4afd209",
      "metadata": {
        "id": "a4afd209",
        "outputId": "8dd22bdf-77d9-41f1-f4fa-de07f7b4ce44"
      },
      "outputs": [
        {
          "name": "stdout",
          "output_type": "stream",
          "text": [
            "abcd\n"
          ]
        }
      ],
      "source": [
        "s = ['a', 'b', 'c', 'd']\n",
        "str1 = ''.join(s)\n",
        "print(str1)\n"
      ]
    },
    {
      "cell_type": "markdown",
      "id": "6c31a274",
      "metadata": {
        "id": "6c31a274"
      },
      "source": [
        "# Fallten list"
      ]
    },
    {
      "cell_type": "code",
      "execution_count": null,
      "id": "64195a7f",
      "metadata": {
        "id": "64195a7f",
        "outputId": "480db23c-ada9-4911-8fc8-cd57d6644fb4"
      },
      "outputs": [
        {
          "name": "stdout",
          "output_type": "stream",
          "text": [
            "[1, 2, 3, 4, 5, 6, 7, 8, 9]\n"
          ]
        }
      ],
      "source": [
        "\n",
        "import itertools\n",
        " \n",
        "List_1 = [[1,2,3],[4,5,6],[7,8,9]] #List to be flattened\n",
        " \n",
        "List_flat = list(itertools.chain(*List_1))\n",
        " \n",
        "print(List_flat)\n"
      ]
    },
    {
      "cell_type": "code",
      "execution_count": null,
      "id": "83dbbf21",
      "metadata": {
        "id": "83dbbf21",
        "outputId": "40c2b3b2-212e-458c-d648-8fa512029fa5"
      },
      "outputs": [
        {
          "name": "stdout",
          "output_type": "stream",
          "text": [
            "Original list [[1, 2, 3, 4], [5, 6, 7], [8, 9]]\n",
            "Transformed list [1, 2, 3, 4, 5, 6, 7, 8, 9]\n"
          ]
        }
      ],
      "source": [
        "regular_list = [[1, 2, 3, 4], [5, 6, 7], [8, 9]]\n",
        "flat_list = [item for sublist in regular_list for item in sublist]\n",
        "print('Original list', regular_list)\n",
        "print('Transformed list', flat_list)"
      ]
    },
    {
      "cell_type": "markdown",
      "id": "ab04dd2d",
      "metadata": {
        "id": "ab04dd2d"
      },
      "source": [
        "# 26. Write a python program to check whether two lists are circularly identical.  \n",
        "  \n"
      ]
    },
    {
      "cell_type": "code",
      "execution_count": null,
      "id": "cd66c2c3",
      "metadata": {
        "id": "cd66c2c3",
        "outputId": "262b85f3-4147-439f-add3-2b330d743645"
      },
      "outputs": [
        {
          "name": "stdout",
          "output_type": "stream",
          "text": [
            "Compare list1 and list2\n",
            "True\n",
            "Compare list1 and list3\n",
            "False\n"
          ]
        }
      ],
      "source": [
        "\n",
        "list1 = [10, 10, 0, 0, 10]\n",
        "list2 = [10, 10, 10, 0, 0]\n",
        "list3 = [1, 10, 10, 0, 0]\n",
        "\n",
        "print('Compare list1 and list2')\n",
        "print(' '.join(map(str, list2)) in ' '.join(map(str, list1 * 2)))\n",
        "print('Compare list1 and list3')\n",
        "print(' '.join(map(str, list3)) in ' '.join(map(str, list1 * 2)))\n"
      ]
    },
    {
      "cell_type": "markdown",
      "id": "8e8e56d6",
      "metadata": {
        "id": "8e8e56d6"
      },
      "source": [
        "\n",
        "# 28. Write a Python program to find the second largest number in a list.  \n"
      ]
    },
    {
      "cell_type": "code",
      "execution_count": null,
      "id": "a53a69a6",
      "metadata": {
        "id": "a53a69a6",
        "outputId": "cc128031-120b-44f1-c312-cc3754cc7690"
      },
      "outputs": [
        {
          "name": "stdout",
          "output_type": "stream",
          "text": [
            "64\n"
          ]
        }
      ],
      "source": [
        "def second(lst):\n",
        "    l = [x for x in lst if x<max(lst)]\n",
        "    return max(l)\n",
        "if __name__=='__main__':\n",
        "    lst = [2,44,55,64,66]\n",
        "    print(second(lst))"
      ]
    },
    {
      "cell_type": "markdown",
      "id": "934aedb8",
      "metadata": {
        "id": "934aedb8"
      },
      "source": [
        "# 29. Write a Python program to get unique values from a list.  \n",
        "  \n"
      ]
    },
    {
      "cell_type": "code",
      "execution_count": null,
      "id": "06cb73ff",
      "metadata": {
        "id": "06cb73ff",
        "outputId": "06e5b751-65ea-48b4-8dd7-f586edd1dd5a"
      },
      "outputs": [
        {
          "name": "stdout",
          "output_type": "stream",
          "text": [
            "Original List :  [10, 20, 30, 40, 20, 50, 60, 40]\n",
            "List of unique numbers :  [40, 10, 50, 20, 60, 30]\n"
          ]
        }
      ],
      "source": [
        "my_list = [10, 20, 30, 40, 20, 50, 60, 40]\n",
        "print(\"Original List : \",my_list)\n",
        "my_set = set(my_list)\n",
        "my_new_list = list(my_set)\n",
        "print(\"List of unique numbers : \",my_new_list)\n"
      ]
    },
    {
      "cell_type": "markdown",
      "id": "c7005969",
      "metadata": {
        "id": "c7005969"
      },
      "source": [
        "# Count the frequecy of the list"
      ]
    },
    {
      "cell_type": "code",
      "execution_count": null,
      "id": "37695d3e",
      "metadata": {
        "id": "37695d3e",
        "outputId": "c9f54faa-5dc4-44a6-bb95-8ca9f277fcea"
      },
      "outputs": [
        {
          "name": "stdout",
          "output_type": "stream",
          "text": [
            "{'r': 3, 's': 1}\n"
          ]
        }
      ],
      "source": [
        "l = ['r','r','s','r']\n",
        "f = {}\n",
        "for item in l:\n",
        "    if item in f:\n",
        "        f[item]+=1\n",
        "    else:\n",
        "        f[item] = 1\n",
        "print(f)"
      ]
    },
    {
      "cell_type": "markdown",
      "id": "ddd27213",
      "metadata": {
        "id": "ddd27213"
      },
      "source": [
        "# check the sublist in the list"
      ]
    },
    {
      "cell_type": "code",
      "execution_count": null,
      "id": "b4a10cb1",
      "metadata": {
        "id": "b4a10cb1",
        "outputId": "7dbd431a-8caf-4b47-b98b-08d9ff3c507b"
      },
      "outputs": [
        {
          "name": "stdout",
          "output_type": "stream",
          "text": [
            "True\n",
            "False\n"
          ]
        }
      ],
      "source": [
        "def is_Sublist(l, s):\n",
        "\tsub_set = False\n",
        "\tif s == []:\n",
        "\t\tsub_set = True\n",
        "\telif s == l:\n",
        "\t\tsub_set = True\n",
        "\telif len(s) > len(l):\n",
        "\t\tsub_set = False\n",
        "\n",
        "\telse:\n",
        "\t\tfor i in range(len(l)):\n",
        "\t\t\tif l[i] == s[0]:\n",
        "\t\t\t\tn = 1\n",
        "\t\t\t\twhile (n < len(s)) and (l[i+n] == s[n]):\n",
        "\t\t\t\t\tn += 1\n",
        "\t\t\t\t\n",
        "\t\t\t\tif n == len(s):\n",
        "\t\t\t\t\tsub_set = True\n",
        "\n",
        "\treturn sub_set\n",
        "\n",
        "a = [2,4,3,5,7]\n",
        "b = [4,3]\n",
        "c = [3,7]\n",
        "print(is_Sublist(a, b))\n",
        "print(is_Sublist(a, c))\n"
      ]
    },
    {
      "cell_type": "code",
      "execution_count": null,
      "id": "eb4c9bb6",
      "metadata": {
        "id": "eb4c9bb6",
        "outputId": "73a3fdb6-8184-401e-9ba9-07fbf14a4ba5"
      },
      "outputs": [
        {
          "data": {
            "text/plain": [
              "False"
            ]
          },
          "execution_count": 123,
          "metadata": {},
          "output_type": "execute_result"
        }
      ],
      "source": [
        "list1 = [2,3,5,1]\n",
        "list2 = [2,3]\n",
        "\n",
        "all(i in list2 for i in list1)"
      ]
    },
    {
      "cell_type": "code",
      "execution_count": null,
      "id": "833ae422",
      "metadata": {
        "id": "833ae422",
        "outputId": "af6fb480-5683-41ab-e242-72b9055a01ee"
      },
      "outputs": [
        {
          "data": {
            "text/plain": [
              "False"
            ]
          },
          "execution_count": 2,
          "metadata": {},
          "output_type": "execute_result"
        }
      ],
      "source": [
        "a = [2,4,3,5,7]\n",
        "b = [3,5,2]\n",
        "b in [a[i:len(b)+i] for i in range(len(a))]"
      ]
    },
    {
      "cell_type": "markdown",
      "id": "998f921c",
      "metadata": {
        "id": "998f921c"
      },
      "source": [
        "# Create sublist of the list"
      ]
    },
    {
      "cell_type": "code",
      "execution_count": null,
      "id": "75bf027f",
      "metadata": {
        "id": "75bf027f",
        "outputId": "e4773b87-f260-47c2-d34e-566e82d11f64"
      },
      "outputs": [
        {
          "name": "stdout",
          "output_type": "stream",
          "text": [
            "enter size of list :3\n",
            "enter element\n",
            "input of number1\n",
            "input of number2\n",
            "input of number3\n",
            "sunlist is : [[], [1], [1, 2], [1, 2, 3], [2], [2, 3], [3]]\n"
          ]
        }
      ],
      "source": [
        "def ravi(a):\n",
        "    b = [[]]\n",
        "    for i in range(len(a)+1):\n",
        "        for j in range(i+1,len(a)+1):\n",
        "            sub = a[i:j]\n",
        "            b.append(sub)\n",
        "    return b\n",
        "a = list()\n",
        "n = int(input('enter size of list :'))\n",
        "print('enter element')\n",
        "for i in range(int(n)):\n",
        "    k = int(input('input of number'))\n",
        "    a.append(k)\n",
        "print('sunlist is :',ravi(a))"
      ]
    },
    {
      "cell_type": "markdown",
      "id": "8e6f249c",
      "metadata": {
        "id": "8e6f249c"
      },
      "source": [
        "# Prime number using in sieve of eratosthenes step "
      ]
    },
    {
      "cell_type": "code",
      "execution_count": null,
      "id": "dc153604",
      "metadata": {
        "id": "dc153604",
        "outputId": "6f11a027-16cc-433d-8870-012ecd067d44"
      },
      "outputs": [
        {
          "name": "stdout",
          "output_type": "stream",
          "text": [
            "2\n",
            "3\n",
            "5\n",
            "7\n",
            "11\n",
            "13\n",
            "17\n",
            "19\n",
            "23\n",
            "29\n",
            "31\n",
            "37\n",
            "41\n",
            "43\n",
            "47\n",
            "53\n",
            "59\n",
            "61\n",
            "67\n",
            "71\n",
            "73\n",
            "79\n",
            "83\n",
            "89\n",
            "97\n",
            "None\n"
          ]
        }
      ],
      "source": [
        "def prime_eratosthenes(n):\n",
        "    prime_list = []\n",
        "    for i in range(2, n+1):\n",
        "        if i not in prime_list:\n",
        "            print (i)\n",
        "            for j in range(i*i, n+1, i):\n",
        "                prime_list.append(j)\n",
        "\n",
        "print(prime_eratosthenes(100));\n"
      ]
    },
    {
      "cell_type": "markdown",
      "id": "7da36d55",
      "metadata": {
        "id": "7da36d55"
      },
      "source": [
        "##### Write a Python program to create a list by concatenating a given list which range goes from 1 to n.  \n",
        "##### Sample list : ['p', 'q']\n",
        "##### n =5\n",
        "##### Sample Output : ['p1', 'q1', 'p2', 'q2', 'p3', 'q3', 'p4', 'q4', 'p5', 'q5']\n"
      ]
    },
    {
      "cell_type": "code",
      "execution_count": null,
      "id": "bba8ab53",
      "metadata": {
        "id": "bba8ab53",
        "outputId": "409d9c63-5cdb-4728-e8ab-3237db7f83b8"
      },
      "outputs": [
        {
          "name": "stdout",
          "output_type": "stream",
          "text": [
            "['p1', 'q1', 'p2', 'q2', 'p3', 'q3', 'p4', 'q4']\n"
          ]
        }
      ],
      "source": [
        "my_list = ['p', 'q']\n",
        "n = 4\n",
        "new_list = ['{}{}'.format(x, y) for y in range(1, n+1) for x in my_list]\n",
        "print(new_list)\n"
      ]
    },
    {
      "cell_type": "markdown",
      "id": "e10b7142",
      "metadata": {
        "id": "e10b7142"
      },
      "source": [
        "# Write a Python program to get variable unique identification number or string.  "
      ]
    },
    {
      "cell_type": "code",
      "execution_count": null,
      "id": "fb31044e",
      "metadata": {
        "id": "fb31044e",
        "outputId": "f06850a3-c099-4401-eb45-3e5a7fa98a40"
      },
      "outputs": [
        {
          "name": "stdout",
          "output_type": "stream",
          "text": [
            "2c9604b55d0\n",
            "2c966e8f9b0\n"
          ]
        }
      ],
      "source": [
        "x = 100\n",
        "print(format(id(x), 'x'))\n",
        "s = 'w3resource'\n",
        "print(format(id(s), 'x')) \n"
      ]
    },
    {
      "cell_type": "markdown",
      "id": "b9b93ab8",
      "metadata": {
        "id": "b9b93ab8"
      },
      "source": [
        "# 37. Write a Python program to find common items from two lists.  "
      ]
    },
    {
      "cell_type": "code",
      "execution_count": null,
      "id": "388b165d",
      "metadata": {
        "id": "388b165d",
        "outputId": "09f8a8c0-47d1-48af-e732-f066cee7f8f0"
      },
      "outputs": [
        {
          "name": "stdout",
          "output_type": "stream",
          "text": [
            "{'Green', 'White'}\n"
          ]
        }
      ],
      "source": [
        "color1 = \"Red\", \"Green\", \"Orange\", \"White\"\n",
        "color2 = \"Black\", \"Green\", \"White\", \"Pink\"\n",
        "print(set(color1) & set(color2))\n"
      ]
    },
    {
      "cell_type": "markdown",
      "id": "e5e60bcc",
      "metadata": {
        "id": "e5e60bcc"
      },
      "source": [
        "#### 38. Write a Python program to change the position of every n-th value with the (n+1)th in a list.  \n",
        "#### Sample list: [0,1,2,3,4,5]\n",
        "#### Expected Output: [1, 0, 3, 2, 5, 4]\n",
        "  \n"
      ]
    },
    {
      "cell_type": "code",
      "execution_count": null,
      "id": "54c79345",
      "metadata": {
        "id": "54c79345",
        "outputId": "682486f8-d20e-4851-9d4c-6a89606a4734"
      },
      "outputs": [
        {
          "name": "stdout",
          "output_type": "stream",
          "text": [
            "[1, 0, 3, 2, 5, 4]\n"
          ]
        }
      ],
      "source": [
        "from itertools import zip_longest, chain, tee\n",
        "def replace2copy(lst):\n",
        "    lst1, lst2 = tee(iter(lst), 2)\n",
        "    return list(chain.from_iterable(zip_longest(lst[1::2], lst[::2])))\n",
        "n = [0,1,2,3,4,5]\n",
        "print(replace2copy(n))\n"
      ]
    },
    {
      "cell_type": "markdown",
      "id": "70e529fb",
      "metadata": {
        "id": "70e529fb"
      },
      "source": [
        "##### 39. Write a Python program to convert a list of multiple integers into a single integer.  \n",
        "##### Sample list: [11, 33, 50]\n",
        "###### Expected Output: 113350\n",
        "  \n"
      ]
    },
    {
      "cell_type": "code",
      "execution_count": null,
      "id": "16cc570e",
      "metadata": {
        "id": "16cc570e",
        "outputId": "f4821cb9-31b6-443f-d158-2acb5826baae"
      },
      "outputs": [
        {
          "name": "stdout",
          "output_type": "stream",
          "text": [
            "Original List:  [11, 33, 50]\n",
            "Single Integer:  113350\n"
          ]
        }
      ],
      "source": [
        "L = [11, 33, 50]\n",
        "print(\"Original List: \",L)\n",
        "x = int(\"\".join(map(str, L)))\n",
        "print(\"Single Integer: \",x)\n"
      ]
    },
    {
      "cell_type": "markdown",
      "id": "c9f059c3",
      "metadata": {
        "id": "c9f059c3"
      },
      "source": [
        "#### 40. Write a Python program to split a list based on first character of word.  "
      ]
    },
    {
      "cell_type": "code",
      "execution_count": null,
      "id": "f0e1808c",
      "metadata": {
        "id": "f0e1808c",
        "outputId": "805287b2-5eb3-44b3-a1d5-564ef9537254"
      },
      "outputs": [
        {
          "data": {
            "text/plain": [
              "{'B': ['Billgone']}"
            ]
          },
          "execution_count": 12,
          "metadata": {},
          "output_type": "execute_result"
        }
      ],
      "source": [
        "def splitLst(x):\n",
        "    dictionary = dict()\n",
        "    for word in x:\n",
        "        f = word[0]\n",
        "    if f in dictionary.keys():\n",
        "        dictionary[f].append(word)\n",
        "    else:\n",
        "        dictionary[f] = [word]\n",
        "    return dictionary\n",
        "\n",
        "splitLst(['About', 'Absolutely', 'After', 'Aint', 'Alabama','AlabamaBill', 'All', 'Also', 'Amos', 'And', 'Anyhow', 'Are', 'As', 'At', 'Aunt', 'Aw', 'Bedlam', 'Behind', 'Besides', 'Biblical', 'Bill', 'Billgone'])"
      ]
    },
    {
      "cell_type": "code",
      "execution_count": null,
      "id": "29eab791",
      "metadata": {
        "id": "29eab791",
        "outputId": "3c967119-ccba-40c7-edd7-6705a42b15bb"
      },
      "outputs": [
        {
          "name": "stdout",
          "output_type": "stream",
          "text": [
            "a\n",
            "ask\n",
            "b\n",
            "be\n",
            "c\n",
            "call\n",
            "come\n",
            "d\n",
            "do\n",
            "f\n",
            "feel\n",
            "find\n",
            "g\n",
            "get\n",
            "give\n",
            "go\n",
            "h\n",
            "have\n",
            "k\n",
            "know\n",
            "l\n",
            "leave\n",
            "look\n",
            "m\n",
            "make\n",
            "s\n",
            "say\n",
            "see\n",
            "seem\n",
            "t\n",
            "take\n",
            "tell\n",
            "think\n",
            "u\n",
            "use\n",
            "w\n",
            "want\n",
            "work\n"
          ]
        }
      ],
      "source": [
        "from itertools import groupby\n",
        "from operator import itemgetter\n",
        "\n",
        "word_list = ['be','have','do','say','get','make','go','know','take','see','come','think',\n",
        "     'look','want','give','use','find','tell','ask','work','seem','feel','leave','call']\n",
        "\n",
        "for letter, words in groupby(sorted(word_list), key=itemgetter(0)):\n",
        "    print(letter)\n",
        "    for word in words:\n",
        "        print(word)\n"
      ]
    },
    {
      "cell_type": "markdown",
      "id": "a794ac14",
      "metadata": {
        "id": "a794ac14"
      },
      "source": [
        "###### 41. Write a Python program to create multiple lists.  "
      ]
    },
    {
      "cell_type": "code",
      "execution_count": null,
      "id": "2c55535f",
      "metadata": {
        "id": "2c55535f",
        "outputId": "b7f670ad-fcb2-4979-b7e1-49f5ed590ca6"
      },
      "outputs": [
        {
          "name": "stdout",
          "output_type": "stream",
          "text": [
            "{'1': [], '2': [], '3': [], '4': [], '5': [], '6': [], '7': [], '8': [], '9': [], '10': [], '11': [], '12': [], '13': [], '14': [], '15': [], '16': [], '17': [], '18': [], '19': [], '20': []}\n"
          ]
        }
      ],
      "source": [
        "obj = {}\n",
        "for i in range(1, 21):\n",
        "    obj[str(i)] = []\n",
        "print(obj)\n"
      ]
    },
    {
      "cell_type": "code",
      "execution_count": null,
      "id": "08f1c510",
      "metadata": {
        "id": "08f1c510",
        "outputId": "c7600a7b-36ad-4a55-96e6-f2442c1226c3"
      },
      "outputs": [
        {
          "name": "stdout",
          "output_type": "stream",
          "text": [
            "Missing values in second list:  b,c,a\n",
            "Additional values in second list:  h,g\n"
          ]
        }
      ],
      "source": [
        "list1 = ['a','b','c','d','e','f']\n",
        "list2 = ['d','e','f','g','h']\n",
        "print('Missing values in second list: ', ','.join(set(list1).difference(list2)))\n",
        "print('Additional values in second list: ', ','.join(set(list2).difference(list1)))\n"
      ]
    },
    {
      "cell_type": "code",
      "execution_count": null,
      "id": "21cce1a2",
      "metadata": {
        "id": "21cce1a2",
        "outputId": "8c91b845-efb9-4d6d-b427-60d08e063fdf"
      },
      "outputs": [
        {
          "name": "stdout",
          "output_type": "stream",
          "text": [
            "enter number of size 1st list :5\n",
            "enter number of size 1st list :5\n",
            "8\n",
            "6\n",
            "2\n",
            "9\n",
            "3\n",
            "enter second element\n",
            "6\n",
            "7\n",
            "2\n",
            "1\n",
            "3\n",
            "missing 1st list : {1, 7}\n",
            "missing 2nd list : {8, 9}\n"
          ]
        }
      ],
      "source": [
        "# for the number \n",
        "\n",
        "a = []\n",
        "b = []\n",
        "n1 = int(input('enter number of size 1st list :'))\n",
        "n2 = int(input('enter number of size 1st list :'))\n",
        "\n",
        "for i in range(n1):\n",
        "    k = int(input(''))\n",
        "    a.append(k)\n",
        "print('enter second element')\n",
        "for j in range(n2):\n",
        "    k1 = int(input(''))\n",
        "    b.append(k1)\n",
        "#print the missing element\n",
        "\n",
        "print('missing 1st list :',(set(b).difference(a)))\n",
        "print('missing 2nd list :',(set(a).difference(b)))\n",
        "                "
      ]
    },
    {
      "cell_type": "markdown",
      "id": "456882b0",
      "metadata": {
        "id": "456882b0"
      },
      "source": [
        "##### Write a Python program to split a list into different variables."
      ]
    },
    {
      "cell_type": "code",
      "execution_count": null,
      "id": "3bc74dfa",
      "metadata": {
        "id": "3bc74dfa",
        "outputId": "214fd7e0-532e-475e-cc1b-9edfad51ec60"
      },
      "outputs": [
        {
          "name": "stdout",
          "output_type": "stream",
          "text": [
            "('Black', '#000000', 'rgb(0, 0, 0)')\n",
            "('Red', '#FF0000', 'rgb(255, 0, 0)')\n",
            "('Yellow', '#FFFF00', 'rgb(255, 255, 0)')\n"
          ]
        }
      ],
      "source": [
        "color = [(\"Black\", \"#000000\", \"rgb(0, 0, 0)\"), (\"Red\", \"#FF0000\", \"rgb(255, 0, 0)\"),\n",
        "         (\"Yellow\", \"#FFFF00\", \"rgb(255, 255, 0)\")]\n",
        "var1, var2, var3 = color\n",
        "print(var1)\n",
        "print(var2)\n",
        "print(var3)\n"
      ]
    },
    {
      "cell_type": "markdown",
      "id": "036d719c",
      "metadata": {
        "id": "036d719c"
      },
      "source": [
        "##### Write a Python program to generate groups of five consecutive numbers in a list.\n",
        "\n"
      ]
    },
    {
      "cell_type": "code",
      "execution_count": null,
      "id": "a0d4dc2e",
      "metadata": {
        "id": "a0d4dc2e",
        "outputId": "f9d2354e-ea49-4814-f921-03313de225b6"
      },
      "outputs": [
        {
          "name": "stdout",
          "output_type": "stream",
          "text": [
            "[[1, 2, 3, 4, 5], [6, 7, 8, 9, 10], [11, 12, 13, 14, 15], [16, 17, 18, 19, 20], [21, 22, 23, 24, 25]]\n"
          ]
        }
      ],
      "source": [
        "l = [[5*i + j for j in range(1,6)] for i in range(5)]\n",
        "print(l)\n"
      ]
    },
    {
      "cell_type": "markdown",
      "id": "b5243ca6",
      "metadata": {
        "id": "b5243ca6"
      },
      "source": [
        "##### Write a Python program to convert a pair of values into a sorted unique array.\n",
        "\n"
      ]
    },
    {
      "cell_type": "code",
      "execution_count": null,
      "id": "64ff79fa",
      "metadata": {
        "id": "64ff79fa",
        "outputId": "a0e0b536-17fb-4a4f-d548-646316f7d730"
      },
      "outputs": [
        {
          "name": "stdout",
          "output_type": "stream",
          "text": [
            "Original List:  [(1, 2), (3, 4), (1, 2), (5, 6), (7, 8), (1, 2), (3, 4), (3, 4), (7, 8), (9, 10)]\n",
            "Sorted Unique Data: [1, 2, 3, 4, 5, 6, 7, 8, 9, 10]\n"
          ]
        }
      ],
      "source": [
        "L = [(1, 2), (3, 4), (1, 2), (5, 6), (7, 8), (1, 2), (3, 4), (3, 4),\n",
        " (7, 8), (9, 10)]\n",
        "print(\"Original List: \", L)\n",
        "print(\"Sorted Unique Data:\",sorted(set().union(*L)))\n"
      ]
    },
    {
      "cell_type": "code",
      "execution_count": null,
      "id": "4a870eb7",
      "metadata": {
        "id": "4a870eb7",
        "outputId": "1bcbfa8c-b5b2-4d60-8f6e-640b73a7ba5b"
      },
      "outputs": [
        {
          "name": "stdout",
          "output_type": "stream",
          "text": [
            "[5, 3]\n"
          ]
        }
      ],
      "source": [
        "l = [5,8,3,8,2,8]\n",
        "a = []\n",
        "for i in l:\n",
        "    if i%2!=0:\n",
        "        a.append(i)\n",
        "print(a)\n",
        "        "
      ]
    },
    {
      "cell_type": "markdown",
      "id": "0c4ffd07",
      "metadata": {
        "id": "0c4ffd07"
      },
      "source": [
        "##### Write a Python program to convert list to list of dictionaries.\n",
        "\n"
      ]
    },
    {
      "cell_type": "code",
      "execution_count": null,
      "id": "393b1de4",
      "metadata": {
        "id": "393b1de4",
        "outputId": "9a45126f-df2e-436f-f503-93da4f754078"
      },
      "outputs": [
        {
          "name": "stdout",
          "output_type": "stream",
          "text": [
            "[{'color_name': 'Black', 'color_code': '#000000'}, {'color_name': 'Red', 'color_code': '#FF0000'}, {'color_name': 'Maroon', 'color_code': '#800000'}, {'color_name': 'Yellow', 'color_code': '#FFFF00'}]\n"
          ]
        }
      ],
      "source": [
        "color_name = [\"Black\", \"Red\", \"Maroon\", \"Yellow\"]\n",
        "color_code = [\"#000000\", \"#FF0000\", \"#800000\", \"#FFFF00\"]\n",
        "print([{'color_name': r, 'color_code': c} for r, c in zip(color_name, color_code)])\n"
      ]
    },
    {
      "cell_type": "markdown",
      "id": "c660c836",
      "metadata": {
        "id": "c660c836"
      },
      "source": [
        "##### Write a Python program to split a list every Nth element.\n",
        "\n"
      ]
    },
    {
      "cell_type": "code",
      "execution_count": null,
      "id": "f2c646c9",
      "metadata": {
        "id": "f2c646c9",
        "outputId": "77f5fc09-0f42-4267-eeae-853fa54415ae"
      },
      "outputs": [
        {
          "name": "stdout",
          "output_type": "stream",
          "text": [
            "[['a', 'c', 'e', 'g', 'i', 'k', 'm'], ['b', 'd', 'f', 'h', 'j', 'l', 'n']]\n"
          ]
        }
      ],
      "source": [
        "C = ['a', 'b', 'c', 'd', 'e', 'f', 'g', 'h', 'i', 'j', 'k', 'l', 'm', 'n']\n",
        "def list_slice(S, step):\n",
        "    return [S[i::step] for i in range(step)]\n",
        "print(list_slice(C,2))\n"
      ]
    },
    {
      "cell_type": "markdown",
      "id": "9ebf5ac7",
      "metadata": {
        "id": "9ebf5ac7"
      },
      "source": [
        "##### Write a Python program to move all zero digits to end of a given list of numbers. Go to the editor\n",
        "#### Expected output:\n",
        "#### Original list:\n",
        "##### [3, 4, 0, 0, 0, 6, 2, 0, 6, 7, 6, 0, 0, 0, 9, 10, 7, 4, 4, 5, 3, 0, 0, 2, 9, 7, 1]\n",
        "###### Move all zero digits to end of the said list of numbers:\n",
        "###### [3, 4, 6, 2, 6, 7, 6, 9, 10, 7, 4, 4, 5, 3, 2, 9, 7, 1, 0, 0, 0, 0, 0, 0, 0, 0, 0]"
      ]
    },
    {
      "cell_type": "code",
      "execution_count": null,
      "id": "f548fe72",
      "metadata": {
        "scrolled": false,
        "id": "f548fe72",
        "outputId": "a0ebe263-ffcd-4045-be84-f96aa9975a4a"
      },
      "outputs": [
        {
          "name": "stdout",
          "output_type": "stream",
          "text": [
            "\n",
            "Original list:\n",
            "[3, 4, 0, 0, 0, 6, 2, 0, 6, 7, 6, 0, 0, 0, 9, 10, 7, 4, 4, 5, 3, 0, 0, 2, 9, 7, 1]\n",
            "\n",
            "Move all zero digits to end of the said list of numbers:\n",
            "[3, 4, 6, 2, 6, 7, 6, 9, 10, 7, 4, 4, 5, 3, 2, 9, 7, 1, 0, 0, 0, 0, 0, 0, 0, 0, 0]\n"
          ]
        }
      ],
      "source": [
        "def test(lst):\n",
        "    result = sorted(lst, key=lambda x: not x) \n",
        "    return result\n",
        "nums = [3,4,0,0,0,6,2,0,6,7,6,0,0,0,9,10,7,4,4,5,3,0,0,2,9,7,1]\n",
        "print(\"\\nOriginal list:\")\n",
        "print(nums)\n",
        "print(\"\\nMove all zero digits to end of the said list of numbers:\")\n",
        "print(test(nums)) \n"
      ]
    },
    {
      "cell_type": "code",
      "execution_count": null,
      "id": "68bbb43a",
      "metadata": {
        "id": "68bbb43a",
        "outputId": "6844024c-c896-4328-8000-07c9f0399333"
      },
      "outputs": [
        {
          "name": "stdout",
          "output_type": "stream",
          "text": [
            "[3, 4, 6, 2, 6, 7, 6, 9, 10, 7, 4, 4, 5, 3, 2, 9, 7, 1, 0, 0, 0, 0, 0, 0, 0, 0, 0]"
          ]
        }
      ],
      "source": [
        "\n",
        "nums = [3,4,0,0,0,6,2,0,6,7,6,0,0,0,9,10,7,4,4,5,3,0,0,2,9,7,1]\n",
        "\n",
        "\n",
        "new_list = [nums for nums in nums if nums != 0]+ [nums for nums in nums if nums == 0]\n",
        "print(new_list,end='')"
      ]
    },
    {
      "cell_type": "markdown",
      "id": "da5db4b6",
      "metadata": {
        "id": "da5db4b6"
      },
      "source": [
        "###### . Write a Python program to find the list in a list of lists whose sum of elements is the highest. Go to the editor\n"
      ]
    },
    {
      "cell_type": "code",
      "execution_count": null,
      "id": "7d0cba7b",
      "metadata": {
        "id": "7d0cba7b",
        "outputId": "617499b1-7c58-4ace-9cd4-dbbadd30f592"
      },
      "outputs": [
        {
          "name": "stdout",
          "output_type": "stream",
          "text": [
            "y is big [10, 11, 12]\n"
          ]
        }
      ],
      "source": [
        "num = [[1,2,3], [4,5,6], [10,11,12], [7,8,9]]\n",
        "#print(max(num, key=sum))\n",
        "a,b,c,d =num\n",
        "r = sum(a)\n",
        "t = sum(b)\n",
        "y = sum(c)\n",
        "h = sum(d)\n",
        "if r>t and r>y and r>h:\n",
        "    print('r is big',a)\n",
        "if t>r and t>y and t>h:\n",
        "    print('t is big',b)\n",
        "    \n",
        "if y>t and y>r and y>h:\n",
        "    print('y is big',c)\n",
        "    \n",
        "if h>t and h>y and h>r:\n",
        "    print('h is big',d)"
      ]
    },
    {
      "cell_type": "markdown",
      "id": "27139627",
      "metadata": {
        "id": "27139627"
      },
      "source": [
        "##### Write a Python program to remove duplicates from a list of lists.\n",
        "\n"
      ]
    },
    {
      "cell_type": "code",
      "execution_count": null,
      "id": "337f5093",
      "metadata": {
        "id": "337f5093",
        "outputId": "d4296334-8d67-42c6-b8f6-d9b551abc0b2"
      },
      "outputs": [
        {
          "name": "stdout",
          "output_type": "stream",
          "text": [
            "[[10, 20], [40], [30, 56, 25], [33]]\n"
          ]
        }
      ],
      "source": [
        "\n",
        "\n",
        "num = [[10,20], [40], [30, 56, 25], [10, 20], [33], [40]]\n",
        "b = []\n",
        "for i in num:\n",
        "        if i not in b:\n",
        "            b.append(i)\n",
        "print(b)"
      ]
    },
    {
      "cell_type": "markdown",
      "id": "93647de7",
      "metadata": {
        "id": "93647de7"
      },
      "source": [
        "##### Write a Python program to find the items starts with specific character from a given list.\n",
        "\n"
      ]
    },
    {
      "cell_type": "code",
      "execution_count": null,
      "id": "0279275d",
      "metadata": {
        "scrolled": true,
        "id": "0279275d",
        "outputId": "4a9e9ee3-edb3-45e9-8540-f90aa122e090"
      },
      "outputs": [
        {
          "data": {
            "text/plain": [
              "['bcd', 'bkie']"
            ]
          },
          "execution_count": 82,
          "metadata": {},
          "output_type": "execute_result"
        }
      ],
      "source": [
        "a='b'\n",
        "lst = [\"abcd\", \"abc\", \"bcd\", \"bkie\", \"cder\", \"cdsw\", \"sdfsd\", \"dagfa\", \"acjd\"]\n",
        "\n",
        "r = [i for i in lst if i.startswith(a)]\n",
        "r\n",
        "\n"
      ]
    },
    {
      "cell_type": "markdown",
      "id": "42cec78c",
      "metadata": {
        "id": "42cec78c"
      },
      "source": [
        "##### Write a Python program to check whether all dictionaries in a list are empty or not.\n",
        "\n"
      ]
    },
    {
      "cell_type": "code",
      "execution_count": null,
      "id": "4347412f",
      "metadata": {
        "id": "4347412f",
        "outputId": "2f0ca602-2238-4be6-fee5-86232e1e96b8"
      },
      "outputs": [
        {
          "name": "stdout",
          "output_type": "stream",
          "text": [
            "True\n",
            "False\n"
          ]
        }
      ],
      "source": [
        "l1 = [{},{},{}]\n",
        "l2 = [{1:2},{},{}]\n",
        "print(all(not d for d in l1))\n",
        "print(all(not d for d in l2))\n"
      ]
    },
    {
      "cell_type": "code",
      "execution_count": null,
      "id": "1b0466ed",
      "metadata": {
        "id": "1b0466ed"
      },
      "outputs": [],
      "source": []
    }
  ],
  "metadata": {
    "kernelspec": {
      "display_name": "Python 3 (ipykernel)",
      "language": "python",
      "name": "python3"
    },
    "language_info": {
      "codemirror_mode": {
        "name": "ipython",
        "version": 3
      },
      "file_extension": ".py",
      "mimetype": "text/x-python",
      "name": "python",
      "nbconvert_exporter": "python",
      "pygments_lexer": "ipython3",
      "version": "3.9.12"
    },
    "colab": {
      "provenance": [],
      "include_colab_link": true
    }
  },
  "nbformat": 4,
  "nbformat_minor": 5
}