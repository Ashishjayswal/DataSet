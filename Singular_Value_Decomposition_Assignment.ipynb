{
  "cells": [
    {
      "cell_type": "markdown",
      "metadata": {
        "id": "view-in-github",
        "colab_type": "text"
      },
      "source": [
        "<a href=\"https://colab.research.google.com/github/Ashishjayswal/DataSet/blob/main/Singular_Value_Decomposition_Assignment.ipynb\" target=\"_parent\"><img src=\"https://colab.research.google.com/assets/colab-badge.svg\" alt=\"Open In Colab\"/></a>"
      ]
    },
    {
      "cell_type": "markdown",
      "metadata": {
        "id": "T8m1xAHaZD5U"
      },
      "source": [
        "# Singular Value Decomposition(SVD) in Python\n",
        "\n",
        "$\\textbf{Mandatory Key steps:}$\n",
        "\n",
        "1. Loading the data set.\n",
        "2. Use TruncatedSVD function in scikit learn to apply SVD for dimensionality reduction\n",
        "3. Set the value of rank as a parameter for TruncatedSVD\n",
        "4. Fit and transform the data set \n",
        "\n",
        "$\\textbf{Optional steps}$\n",
        "\n",
        "1. Investigate U, $\\Sigma$ and V matrices\n",
        "2. Finding the best rank for the given data set using Frobenius Norm"
      ]
    },
    {
      "cell_type": "markdown",
      "metadata": {
        "id": "GoRIgT4-ZD5X"
      },
      "source": [
        "$\\textbf{Loading libraries and data set}$"
      ]
    },
    {
      "cell_type": "code",
      "execution_count": 2,
      "metadata": {
        "id": "5XuCRPSyZD5Y",
        "colab": {
          "base_uri": "https://localhost:8080/",
          "height": 269
        },
        "outputId": "d624370f-3693-4b13-ca71-bea1477ebbc9"
      },
      "outputs": [
        {
          "output_type": "execute_result",
          "data": {
            "text/plain": [
              "   shimla  manali  kashmir  goa  kerela\n",
              "0       1       1        1    0       0\n",
              "1       3       3        3    0       0\n",
              "2       4       4        4    0       0\n",
              "3       5       5        5    0       0\n",
              "4       0       2        0    4       4\n",
              "5       0       0        0    5       5\n",
              "6       0       1        0    2       2"
            ],
            "text/html": [
              "\n",
              "  <div id=\"df-3bb1717f-0257-47fe-8712-65bc5fe8d091\">\n",
              "    <div class=\"colab-df-container\">\n",
              "      <div>\n",
              "<style scoped>\n",
              "    .dataframe tbody tr th:only-of-type {\n",
              "        vertical-align: middle;\n",
              "    }\n",
              "\n",
              "    .dataframe tbody tr th {\n",
              "        vertical-align: top;\n",
              "    }\n",
              "\n",
              "    .dataframe thead th {\n",
              "        text-align: right;\n",
              "    }\n",
              "</style>\n",
              "<table border=\"1\" class=\"dataframe\">\n",
              "  <thead>\n",
              "    <tr style=\"text-align: right;\">\n",
              "      <th></th>\n",
              "      <th>shimla</th>\n",
              "      <th>manali</th>\n",
              "      <th>kashmir</th>\n",
              "      <th>goa</th>\n",
              "      <th>kerela</th>\n",
              "    </tr>\n",
              "  </thead>\n",
              "  <tbody>\n",
              "    <tr>\n",
              "      <th>0</th>\n",
              "      <td>1</td>\n",
              "      <td>1</td>\n",
              "      <td>1</td>\n",
              "      <td>0</td>\n",
              "      <td>0</td>\n",
              "    </tr>\n",
              "    <tr>\n",
              "      <th>1</th>\n",
              "      <td>3</td>\n",
              "      <td>3</td>\n",
              "      <td>3</td>\n",
              "      <td>0</td>\n",
              "      <td>0</td>\n",
              "    </tr>\n",
              "    <tr>\n",
              "      <th>2</th>\n",
              "      <td>4</td>\n",
              "      <td>4</td>\n",
              "      <td>4</td>\n",
              "      <td>0</td>\n",
              "      <td>0</td>\n",
              "    </tr>\n",
              "    <tr>\n",
              "      <th>3</th>\n",
              "      <td>5</td>\n",
              "      <td>5</td>\n",
              "      <td>5</td>\n",
              "      <td>0</td>\n",
              "      <td>0</td>\n",
              "    </tr>\n",
              "    <tr>\n",
              "      <th>4</th>\n",
              "      <td>0</td>\n",
              "      <td>2</td>\n",
              "      <td>0</td>\n",
              "      <td>4</td>\n",
              "      <td>4</td>\n",
              "    </tr>\n",
              "    <tr>\n",
              "      <th>5</th>\n",
              "      <td>0</td>\n",
              "      <td>0</td>\n",
              "      <td>0</td>\n",
              "      <td>5</td>\n",
              "      <td>5</td>\n",
              "    </tr>\n",
              "    <tr>\n",
              "      <th>6</th>\n",
              "      <td>0</td>\n",
              "      <td>1</td>\n",
              "      <td>0</td>\n",
              "      <td>2</td>\n",
              "      <td>2</td>\n",
              "    </tr>\n",
              "  </tbody>\n",
              "</table>\n",
              "</div>\n",
              "      <button class=\"colab-df-convert\" onclick=\"convertToInteractive('df-3bb1717f-0257-47fe-8712-65bc5fe8d091')\"\n",
              "              title=\"Convert this dataframe to an interactive table.\"\n",
              "              style=\"display:none;\">\n",
              "        \n",
              "  <svg xmlns=\"http://www.w3.org/2000/svg\" height=\"24px\"viewBox=\"0 0 24 24\"\n",
              "       width=\"24px\">\n",
              "    <path d=\"M0 0h24v24H0V0z\" fill=\"none\"/>\n",
              "    <path d=\"M18.56 5.44l.94 2.06.94-2.06 2.06-.94-2.06-.94-.94-2.06-.94 2.06-2.06.94zm-11 1L8.5 8.5l.94-2.06 2.06-.94-2.06-.94L8.5 2.5l-.94 2.06-2.06.94zm10 10l.94 2.06.94-2.06 2.06-.94-2.06-.94-.94-2.06-.94 2.06-2.06.94z\"/><path d=\"M17.41 7.96l-1.37-1.37c-.4-.4-.92-.59-1.43-.59-.52 0-1.04.2-1.43.59L10.3 9.45l-7.72 7.72c-.78.78-.78 2.05 0 2.83L4 21.41c.39.39.9.59 1.41.59.51 0 1.02-.2 1.41-.59l7.78-7.78 2.81-2.81c.8-.78.8-2.07 0-2.86zM5.41 20L4 18.59l7.72-7.72 1.47 1.35L5.41 20z\"/>\n",
              "  </svg>\n",
              "      </button>\n",
              "      \n",
              "  <style>\n",
              "    .colab-df-container {\n",
              "      display:flex;\n",
              "      flex-wrap:wrap;\n",
              "      gap: 12px;\n",
              "    }\n",
              "\n",
              "    .colab-df-convert {\n",
              "      background-color: #E8F0FE;\n",
              "      border: none;\n",
              "      border-radius: 50%;\n",
              "      cursor: pointer;\n",
              "      display: none;\n",
              "      fill: #1967D2;\n",
              "      height: 32px;\n",
              "      padding: 0 0 0 0;\n",
              "      width: 32px;\n",
              "    }\n",
              "\n",
              "    .colab-df-convert:hover {\n",
              "      background-color: #E2EBFA;\n",
              "      box-shadow: 0px 1px 2px rgba(60, 64, 67, 0.3), 0px 1px 3px 1px rgba(60, 64, 67, 0.15);\n",
              "      fill: #174EA6;\n",
              "    }\n",
              "\n",
              "    [theme=dark] .colab-df-convert {\n",
              "      background-color: #3B4455;\n",
              "      fill: #D2E3FC;\n",
              "    }\n",
              "\n",
              "    [theme=dark] .colab-df-convert:hover {\n",
              "      background-color: #434B5C;\n",
              "      box-shadow: 0px 1px 3px 1px rgba(0, 0, 0, 0.15);\n",
              "      filter: drop-shadow(0px 1px 2px rgba(0, 0, 0, 0.3));\n",
              "      fill: #FFFFFF;\n",
              "    }\n",
              "  </style>\n",
              "\n",
              "      <script>\n",
              "        const buttonEl =\n",
              "          document.querySelector('#df-3bb1717f-0257-47fe-8712-65bc5fe8d091 button.colab-df-convert');\n",
              "        buttonEl.style.display =\n",
              "          google.colab.kernel.accessAllowed ? 'block' : 'none';\n",
              "\n",
              "        async function convertToInteractive(key) {\n",
              "          const element = document.querySelector('#df-3bb1717f-0257-47fe-8712-65bc5fe8d091');\n",
              "          const dataTable =\n",
              "            await google.colab.kernel.invokeFunction('convertToInteractive',\n",
              "                                                     [key], {});\n",
              "          if (!dataTable) return;\n",
              "\n",
              "          const docLinkHtml = 'Like what you see? Visit the ' +\n",
              "            '<a target=\"_blank\" href=https://colab.research.google.com/notebooks/data_table.ipynb>data table notebook</a>'\n",
              "            + ' to learn more about interactive tables.';\n",
              "          element.innerHTML = '';\n",
              "          dataTable['output_type'] = 'display_data';\n",
              "          await google.colab.output.renderOutput(dataTable, element);\n",
              "          const docLink = document.createElement('div');\n",
              "          docLink.innerHTML = docLinkHtml;\n",
              "          element.appendChild(docLink);\n",
              "        }\n",
              "      </script>\n",
              "    </div>\n",
              "  </div>\n",
              "  "
            ]
          },
          "metadata": {},
          "execution_count": 2
        }
      ],
      "source": [
        "import pandas as pd\n",
        "from numpy import diag\n",
        "import numpy as np\n",
        "from sklearn.decomposition import TruncatedSVD\n",
        "import zipfile\n",
        "\n",
        " \n",
        "df=pd.read_csv(\"movie_review.csv\")\n",
        "df"
      ]
    },
    {
      "cell_type": "code",
      "source": [
        "df[\"cv_tag\"] = df['cv_tag'].str.replace('cv', '').astype(float) \n",
        "df"
      ],
      "metadata": {
        "id": "8J6LjBDzytC2"
      },
      "execution_count": null,
      "outputs": []
    },
    {
      "cell_type": "code",
      "source": [
        ""
      ],
      "metadata": {
        "id": "_Ctbd3oFzNt6"
      },
      "execution_count": null,
      "outputs": []
    },
    {
      "cell_type": "markdown",
      "metadata": {
        "id": "OWnyPQ1MZD5b"
      },
      "source": [
        "$\\textbf{Calling TruncatedSVD function from scikit learn and fitting, transforming the data set into desired number of dimensions  controlled $\\\\$  by parameter n_components of TruncatedSVD function  }$\n"
      ]
    },
    {
      "cell_type": "code",
      "execution_count": 4,
      "metadata": {
        "id": "ekD4KRaMZD5b",
        "colab": {
          "base_uri": "https://localhost:8080/"
        },
        "outputId": "09899283-b1af-423c-9c61-8e07fb898ea2"
      },
      "outputs": [
        {
          "output_type": "stream",
          "name": "stdout",
          "text": [
            "[[ 1.71737671e+00 -2.24512179e-01  1.45434442e-02 -4.44089210e-16]\n",
            " [ 5.15213013e+00 -6.73536537e-01  4.36303325e-02 -1.33226763e-15]\n",
            " [ 6.86950685e+00 -8.98048716e-01  5.81737766e-02 -1.77635684e-15]\n",
            " [ 8.58688356e+00 -1.12256089e+00  7.27172208e-02 -1.77635684e-15]\n",
            " [ 1.90678810e+00  5.62055093e+00 -8.79526240e-01 -5.55111512e-16]\n",
            " [ 9.01335372e-01  6.95376220e+00  9.12571001e-01  0.00000000e+00]\n",
            " [ 9.53394050e-01  2.81027546e+00 -4.39763120e-01 -2.77555756e-16]]\n"
          ]
        }
      ],
      "source": [
        "svd = TruncatedSVD(n_components =4)\n",
        "result= svd.fit_transform(df)\n",
        "print(result)"
      ]
    },
    {
      "cell_type": "markdown",
      "metadata": {
        "id": "wAq3M105ZD5c"
      },
      "source": [
        "In SVD the data set D  is decomposed into three matrices namely U,$\\Sigma$ and V, i.e.,\n",
        "\n",
        "$\\begin{equation}\n",
        "D= U \\Sigma V^{T}\n",
        "\\end{equation}$\n",
        "\n",
        "- The result of fit and transform functions under TruncatedSVD  is $\\textbf{U $\\Sigma$}$. The dot product of $\\textbf{U $\\Sigma$}$ gives us the new data point to be projected along vectors given by V.\n",
        "\n",
        "- In order to find  $\\Sigma$, $\\textbf{singular_values_}$ under TruncatedSVD is used. \n",
        "\n",
        "- Matrix $\\textbf{V_T}$ is obtained by using $\\textbf{components_}$ function\n",
        "\n",
        "- To obtain U, we can divide transformed data by values obtained by singular_values_\n"
      ]
    },
    {
      "cell_type": "code",
      "execution_count": 5,
      "metadata": {
        "id": "dqNF4EisZD5e",
        "colab": {
          "base_uri": "https://localhost:8080/"
        },
        "outputId": "cbe5697a-9971-4273-e17a-100fda5c8f45"
      },
      "outputs": [
        {
          "output_type": "stream",
          "name": "stdout",
          "text": [
            "(4,)\n",
            "(4, 5)\n",
            "(7, 4)\n"
          ]
        }
      ],
      "source": [
        "sigma = svd.singular_values_\n",
        "v = svd.components_\n",
        "u = result/svd.singular_values_\n",
        "\n",
        "print(sigma.shape)\n",
        "print(v.shape)\n",
        "print(u.shape)"
      ]
    },
    {
      "cell_type": "markdown",
      "metadata": {
        "id": "gfTh5iw2ZD5f"
      },
      "source": [
        "$\\textbf{Testing if the dot product of U, $\\Sigma$ and V gives the original data set}$"
      ]
    },
    {
      "cell_type": "code",
      "execution_count": 7,
      "metadata": {
        "id": "KY9e2A5tZD5h",
        "colab": {
          "base_uri": "https://localhost:8080/"
        },
        "outputId": "9e67a2c6-d18d-4d00-e77d-b052f5caba70"
      },
      "outputs": [
        {
          "output_type": "stream",
          "name": "stdout",
          "text": [
            "[[ 1.  1.  1. -0. -0.]\n",
            " [ 3.  3.  3.  0.  0.]\n",
            " [ 4.  4.  4. -0. -0.]\n",
            " [ 5.  5.  5. -0. -0.]\n",
            " [ 0.  2. -0.  4.  4.]\n",
            " [ 0.  0. -0.  5.  5.]\n",
            " [ 0.  1. -0.  2.  2.]]\n",
            "   shimla  manali  kashmir  goa  kerela\n",
            "0       1       1        1    0       0\n",
            "1       3       3        3    0       0\n",
            "2       4       4        4    0       0\n",
            "3       5       5        5    0       0\n",
            "4       0       2        0    4       4\n",
            "5       0       0        0    5       5\n",
            "6       0       1        0    2       2\n"
          ]
        }
      ],
      "source": [
        "s= diag(svd.singular_values_)\n",
        "data_new = np.dot(result, v)\n",
        "data_new = np.round(data_new,2)\n",
        "print(data_new)\n",
        "print(df)"
      ]
    },
    {
      "cell_type": "markdown",
      "metadata": {
        "id": "9if0ExemZD5i"
      },
      "source": [
        "Finding the best rank for the given data set using  Frobenius Norm. The Frobenius Norm has to be small\n",
        "\n",
        "$\\begin{equation}\n",
        "\\mid (A - B)_F \\mid = \\sqrt{\\sum_{ij} (A_{ij} - B_{ij})^2}\n",
        "\\end{equation}$\n",
        "\n",
        "Where A and B represents old and new data set respectively"
      ]
    },
    {
      "cell_type": "code",
      "execution_count": 9,
      "metadata": {
        "id": "B_G0q-P4ZD5j",
        "colab": {
          "base_uri": "https://localhost:8080/"
        },
        "outputId": "a34e9d6b-256f-47ad-e8ed-ef441cde10a2"
      },
      "outputs": [
        {
          "output_type": "stream",
          "name": "stdout",
          "text": [
            "Frobenius Norm =  shimla     0.0\n",
            "manali     0.0\n",
            "kashmir    0.0\n",
            "goa        0.0\n",
            "kerela     0.0\n",
            "dtype: float64\n"
          ]
        }
      ],
      "source": [
        "data_diff = np.subtract(df, data_new)\n",
        "data_squarediff = np.square(data_diff)\n",
        "print('Frobenius Norm = ', np.sqrt(data_squarediff.sum()))\n",
        "\n"
      ]
    },
    {
      "cell_type": "code",
      "execution_count": null,
      "metadata": {
        "id": "tI0QNXUwZD5k"
      },
      "outputs": [],
      "source": [
        ""
      ]
    }
  ],
  "metadata": {
    "kernelspec": {
      "display_name": "Python 3",
      "language": "python",
      "name": "python3"
    },
    "language_info": {
      "codemirror_mode": {
        "name": "ipython",
        "version": 3
      },
      "file_extension": ".py",
      "mimetype": "text/x-python",
      "name": "python",
      "nbconvert_exporter": "python",
      "pygments_lexer": "ipython3",
      "version": "3.6.5"
    },
    "colab": {
      "name": " Singular Value Decomposition Assignment.ipynb",
      "provenance": [],
      "include_colab_link": true
    }
  },
  "nbformat": 4,
  "nbformat_minor": 0
}